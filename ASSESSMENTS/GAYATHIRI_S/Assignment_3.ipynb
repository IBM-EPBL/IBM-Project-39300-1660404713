{
  "nbformat": 4,
  "nbformat_minor": 0,
  "metadata": {
    "colab": {
      "provenance": []
    },
    "kernelspec": {
      "name": "python3",
      "display_name": "Python 3"
    },
    "language_info": {
      "name": "python"
    }
  },
  "cells": [
    {
      "cell_type": "code",
      "execution_count": 10,
      "metadata": {
        "colab": {
          "base_uri": "https://localhost:8080/"
        },
        "id": "DqHmlWBvg4gI",
        "outputId": "83a6670b-5f14-4228-a328-f191c43a49a4"
      },
      "outputs": [
        {
          "output_type": "stream",
          "name": "stdout",
          "text": [
            "Drive already mounted at /content/drive; to attempt to forcibly remount, call drive.mount(\"/content/drive\", force_remount=True).\n"
          ]
        }
      ],
      "source": [
        "from google.colab import drive\n",
        "drive.mount('/content/drive')"
      ]
    },
    {
      "cell_type": "markdown",
      "source": [
        "**2**. **Image** **Augmentation**"
      ],
      "metadata": {
        "id": "aLKHvRB8l8X9"
      }
    },
    {
      "cell_type": "code",
      "source": [
        "from tensorflow.keras.preprocessing.image import ImageDataGenerator"
      ],
      "metadata": {
        "id": "_QI31QB3mBCg"
      },
      "execution_count": 11,
      "outputs": []
    },
    {
      "cell_type": "code",
      "source": [
        "train_data=ImageDataGenerator(rescale=1./255,zoom_range=0.2,horizontal_flip=True)"
      ],
      "metadata": {
        "id": "n_5pfdB2mEqD"
      },
      "execution_count": 12,
      "outputs": []
    },
    {
      "cell_type": "code",
      "source": [
        "test_data=ImageDataGenerator(rescale=1./255)"
      ],
      "metadata": {
        "id": "-56Kic2emJdl"
      },
      "execution_count": 13,
      "outputs": []
    },
    {
      "cell_type": "code",
      "source": [
        "xtrain=train_data.flow_from_directory('/content/drive/MyDrive/Flowers-Dataset/flowers',\n",
        "                                      target_size=(64,64),\n",
        "                                      class_mode='categorical',\n",
        "                                      batch_size=100)"
      ],
      "metadata": {
        "colab": {
          "base_uri": "https://localhost:8080/"
        },
        "id": "y0NU05-RmNVU",
        "outputId": "ac7803d0-f310-40ee-b47f-a9efc069a75b"
      },
      "execution_count": 16,
      "outputs": [
        {
          "output_type": "stream",
          "name": "stdout",
          "text": [
            "Found 4338 images belonging to 5 classes.\n"
          ]
        }
      ]
    },
    {
      "cell_type": "code",
      "source": [
        "xtest=test_data.flow_from_directory('/content/drive/MyDrive/Flowers-Dataset/flowers',\n",
        "                                         target_size=(64,64),\n",
        "                                         class_mode='categorical',\n",
        "                                         batch_size=100)"
      ],
      "metadata": {
        "colab": {
          "base_uri": "https://localhost:8080/"
        },
        "id": "EfojwpPUmP42",
        "outputId": "612befe9-a288-45ca-9ddc-c75ee2b63e88"
      },
      "execution_count": 19,
      "outputs": [
        {
          "output_type": "stream",
          "name": "stdout",
          "text": [
            "Found 4338 images belonging to 5 classes.\n"
          ]
        }
      ]
    },
    {
      "cell_type": "markdown",
      "source": [
        "**3. Creating CNN Model**"
      ],
      "metadata": {
        "id": "LZS5MHUImSQa"
      }
    },
    {
      "cell_type": "code",
      "source": [
        "from tensorflow.keras.models import Sequential\n",
        "from tensorflow.keras.layers import Convolution2D,MaxPooling2D,Flatten,Dense"
      ],
      "metadata": {
        "id": "grPJvi7MmWMZ"
      },
      "execution_count": 20,
      "outputs": []
    },
    {
      "cell_type": "markdown",
      "source": [
        "**4. Add Layers (Convolution,MaxPooling,Flatten,Dense-(HiddenLayers),Output)**\n"
      ],
      "metadata": {
        "id": "F-FC2qYFmbzD"
      }
    },
    {
      "cell_type": "code",
      "source": [
        "model=Sequential()\n",
        "model.add(Convolution2D(32,(3,3),activation='relu',input_shape=(64,64,3)))\n",
        "model.add(MaxPooling2D(pool_size=(2,2)))\n",
        "model.add(Flatten())\n",
        "model.add(Dense(300,activation='relu'))\n",
        "model.add(Dense(150,activation='relu'))\n",
        "model.add(Dense(5,activation='softmax'))"
      ],
      "metadata": {
        "id": "T1r7YG7ImZLY"
      },
      "execution_count": 22,
      "outputs": []
    },
    {
      "cell_type": "markdown",
      "source": [
        "**5. Compile the Model**"
      ],
      "metadata": {
        "id": "GlK1f0plmuN-"
      }
    },
    {
      "cell_type": "code",
      "source": [
        "model.compile(optimizer='adam',loss='categorical_crossentropy',metrics=['accuracy'])"
      ],
      "metadata": {
        "id": "e-Yw9Kflmwca"
      },
      "execution_count": 23,
      "outputs": []
    },
    {
      "cell_type": "markdown",
      "source": [
        "**6. Fit the Model**"
      ],
      "metadata": {
        "id": "R_YpAF3Om0Vg"
      }
    },
    {
      "cell_type": "code",
      "source": [
        "model.fit_generator(xtrain,steps_per_epoch=len(xtrain),\n",
        "          epochs=3,validation_data=xtest,validation_steps=len(xtest))"
      ],
      "metadata": {
        "colab": {
          "base_uri": "https://localhost:8080/"
        },
        "id": "sRcTl-gdm5pV",
        "outputId": "7db47460-763c-4134-8ce1-ebc6618b776c"
      },
      "execution_count": 25,
      "outputs": [
        {
          "output_type": "stream",
          "name": "stderr",
          "text": [
            "/usr/local/lib/python3.7/dist-packages/ipykernel_launcher.py:2: UserWarning: `Model.fit_generator` is deprecated and will be removed in a future version. Please use `Model.fit`, which supports generators.\n",
            "  \n"
          ]
        },
        {
          "output_type": "stream",
          "name": "stdout",
          "text": [
            "Epoch 1/3\n",
            "44/44 [==============================] - 1418s 32s/step - loss: 1.6707 - accuracy: 0.3670 - val_loss: 1.1919 - val_accuracy: 0.5092\n",
            "Epoch 2/3\n",
            "44/44 [==============================] - 51s 1s/step - loss: 1.1100 - accuracy: 0.5420 - val_loss: 1.0543 - val_accuracy: 0.5911\n",
            "Epoch 3/3\n",
            "44/44 [==============================] - 50s 1s/step - loss: 1.0404 - accuracy: 0.5867 - val_loss: 1.0781 - val_accuracy: 0.5793\n"
          ]
        },
        {
          "output_type": "execute_result",
          "data": {
            "text/plain": [
              "<keras.callbacks.History at 0x7f57e2ff1d10>"
            ]
          },
          "metadata": {},
          "execution_count": 25
        }
      ]
    },
    {
      "cell_type": "markdown",
      "source": [
        "**7. Save the Model**"
      ],
      "metadata": {
        "id": "ha5gEE8ZBwPq"
      }
    },
    {
      "cell_type": "code",
      "source": [
        "model.save('flowers.h5')"
      ],
      "metadata": {
        "id": "ohC4dz6GByoV"
      },
      "execution_count": 26,
      "outputs": []
    },
    {
      "cell_type": "markdown",
      "source": [
        "**8. Test the Model**"
      ],
      "metadata": {
        "id": "BkZr7PBum9Xd"
      }
    },
    {
      "cell_type": "code",
      "source": [
        "from tensorflow.keras.preprocessing import image\n",
        "import numpy as np"
      ],
      "metadata": {
        "id": "YpS_WzzOnCXp"
      },
      "execution_count": 27,
      "outputs": []
    },
    {
      "cell_type": "code",
      "source": [
        "#Testing 1\n",
        "\n",
        "fl_img='/content/drive/MyDrive/Flowers-Dataset/flowers/sunflower/13959937305_2f5c532886_n.jpg'\n",
        "img=image.load_img(fl_img,target_size=(64,64))\n",
        "x=image.img_to_array(img)\n",
        "x=np.expand_dims(x,axis=0)\n",
        "pred=np.argmax(model.predict(x))\n",
        "op=['daisy','dandelion','rose','sunflower','tulip']\n",
        "op[pred]"
      ],
      "metadata": {
        "colab": {
          "base_uri": "https://localhost:8080/",
          "height": 35
        },
        "id": "jpDqlmn5nIBk",
        "outputId": "839d8376-73b1-47e3-d857-3fe17da87789"
      },
      "execution_count": 30,
      "outputs": [
        {
          "output_type": "execute_result",
          "data": {
            "text/plain": [
              "'sunflower'"
            ],
            "application/vnd.google.colaboratory.intrinsic+json": {
              "type": "string"
            }
          },
          "metadata": {},
          "execution_count": 30
        }
      ]
    },
    {
      "cell_type": "code",
      "source": [
        "#Testing 2\n",
        "\n",
        "fl_img='/content/drive/MyDrive/Flowers-Dataset/flowers/tulip/112334842_3ecf7585dd.jpg'\n",
        "img=image.load_img(fl_img,target_size=(64,64))\n",
        "x=image.img_to_array(img)\n",
        "x=np.expand_dims(x,axis=0)\n",
        "pred=np.argmax(model.predict(x))\n",
        "op=['daisy','dandelion','rose','sunflower','tulip']\n",
        "op[pred]"
      ],
      "metadata": {
        "colab": {
          "base_uri": "https://localhost:8080/",
          "height": 35
        },
        "id": "72238HqDnKs8",
        "outputId": "b034ccde-1a62-4776-c0e0-d85367471f2f"
      },
      "execution_count": 33,
      "outputs": [
        {
          "output_type": "execute_result",
          "data": {
            "text/plain": [
              "'tulip'"
            ],
            "application/vnd.google.colaboratory.intrinsic+json": {
              "type": "string"
            }
          },
          "metadata": {},
          "execution_count": 33
        }
      ]
    },
    {
      "cell_type": "code",
      "source": [
        "#Testing 3\n",
        "\n",
        "fl_img='/content/drive/MyDrive/Flowers-Dataset/flowers/daisy/10437770546_8bb6f7bdd3_m.jpg'\n",
        "img=image.load_img(fl_img,target_size=(64,64))\n",
        "x=image.img_to_array(img)\n",
        "x=np.expand_dims(x,axis=0)\n",
        "pred=np.argmax(model.predict(x))\n",
        "op=['daisy','dandelion','rose','sunflower','tulip']\n",
        "op[pred]"
      ],
      "metadata": {
        "colab": {
          "base_uri": "https://localhost:8080/",
          "height": 35
        },
        "id": "2G196ylunM33",
        "outputId": "71672512-83f5-4e7e-c387-666e1cadaa82"
      },
      "execution_count": 35,
      "outputs": [
        {
          "output_type": "execute_result",
          "data": {
            "text/plain": [
              "'daisy'"
            ],
            "application/vnd.google.colaboratory.intrinsic+json": {
              "type": "string"
            }
          },
          "metadata": {},
          "execution_count": 35
        }
      ]
    }
  ]
}